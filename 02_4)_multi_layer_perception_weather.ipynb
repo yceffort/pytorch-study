{
  "nbformat": 4,
  "nbformat_minor": 0,
  "metadata": {
    "colab": {
      "name": "02-4) multi layer perception - weather",
      "version": "0.3.2",
      "provenance": [],
      "collapsed_sections": [],
      "include_colab_link": true
    },
    "kernelspec": {
      "name": "python3",
      "display_name": "Python 3"
    },
    "accelerator": "GPU"
  },
  "cells": [
    {
      "cell_type": "markdown",
      "metadata": {
        "id": "view-in-github",
        "colab_type": "text"
      },
      "source": [
        "<a href=\"https://colab.research.google.com/github/yceffort/pytorch-study/blob/master/02_4)_multi_layer_perception_weather.ipynb\" target=\"_parent\"><img src=\"https://colab.research.google.com/assets/colab-badge.svg\" alt=\"Open In Colab\"/></a>"
      ]
    },
    {
      "metadata": {
        "id": "iSn66Ed_9l99",
        "colab_type": "code",
        "colab": {}
      },
      "cell_type": "code",
      "source": [
        "import torch\n",
        "from torch.autograd import Variable\n",
        "import torch.nn as nn\n",
        "import torch.nn.functional as F\n",
        "import torch.optim as optim\n",
        "from torch.utils.data import DataLoader, TensorDataset\n",
        "\n",
        "import pandas as pd\n",
        "import numpy as np\n",
        "\n",
        "from matplotlib import pyplot as plt\n",
        "%matplotlib inline"
      ],
      "execution_count": 0,
      "outputs": []
    },
    {
      "metadata": {
        "id": "oaEY0KK1-XFH",
        "colab_type": "code",
        "outputId": "4a8d7afd-c6fd-45fe-8f66-51c0f44b3fb5",
        "colab": {
          "resources": {
            "http://localhost:8080/nbextensions/google.colab/files.js": {
              "data": "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",
              "ok": true,
              "headers": [
                [
                  "content-type",
                  "application/javascript"
                ]
              ],
              "status": 200,
              "status_text": ""
            }
          },
          "base_uri": "https://localhost:8080/",
          "height": 69
        }
      },
      "cell_type": "code",
      "source": [
        "from google.colab import files\n",
        "upload = files.upload()"
      ],
      "execution_count": 9,
      "outputs": [
        {
          "output_type": "display_data",
          "data": {
            "text/html": [
              "\n",
              "     <input type=\"file\" id=\"files-0dae151e-2ca7-4881-9d5f-e229a638aab8\" name=\"files[]\" multiple disabled />\n",
              "     <output id=\"result-0dae151e-2ca7-4881-9d5f-e229a638aab8\">\n",
              "      Upload widget is only available when the cell has been executed in the\n",
              "      current browser session. Please rerun this cell to enable.\n",
              "      </output>\n",
              "      <script src=\"/nbextensions/google.colab/files.js\"></script> "
            ],
            "text/plain": [
              "<IPython.core.display.HTML object>"
            ]
          },
          "metadata": {
            "tags": []
          }
        },
        {
          "output_type": "stream",
          "text": [
            "Saving ta_20190128205219.csv to ta_20190128205219.csv\n"
          ],
          "name": "stdout"
        }
      ]
    },
    {
      "metadata": {
        "id": "kohg9HnVT7Iu",
        "colab_type": "code",
        "colab": {
          "base_uri": "https://localhost:8080/",
          "height": 34
        },
        "outputId": "b4b6c09c-cf81-4188-f1a7-3742ae876276"
      },
      "cell_type": "code",
      "source": [
        "upload.keys()"
      ],
      "execution_count": 11,
      "outputs": [
        {
          "output_type": "execute_result",
          "data": {
            "text/plain": [
              "dict_keys(['ta_20190128205219.csv'])"
            ]
          },
          "metadata": {
            "tags": []
          },
          "execution_count": 11
        }
      ]
    },
    {
      "metadata": {
        "id": "oR0WK7bJ_yP5",
        "colab_type": "code",
        "colab": {}
      },
      "cell_type": "code",
      "source": [
        "import io\n",
        "\n",
        "string_csv = io.StringIO(upload['ta_20190128205219.csv'].decode('euc-kr'))\n",
        "data = pd.read_csv(string_csv, skiprows=[0, 1, 2, 3, 4, 5])"
      ],
      "execution_count": 0,
      "outputs": []
    },
    {
      "metadata": {
        "id": "z3dMd2RPElRB",
        "colab_type": "code",
        "outputId": "3997d5ca-124a-4d88-fcec-6f2dab569aac",
        "colab": {
          "base_uri": "https://localhost:8080/",
          "height": 204
        }
      },
      "cell_type": "code",
      "source": [
        "data.head()"
      ],
      "execution_count": 13,
      "outputs": [
        {
          "output_type": "execute_result",
          "data": {
            "text/html": [
              "<div>\n",
              "<style scoped>\n",
              "    .dataframe tbody tr th:only-of-type {\n",
              "        vertical-align: middle;\n",
              "    }\n",
              "\n",
              "    .dataframe tbody tr th {\n",
              "        vertical-align: top;\n",
              "    }\n",
              "\n",
              "    .dataframe thead th {\n",
              "        text-align: right;\n",
              "    }\n",
              "</style>\n",
              "<table border=\"1\" class=\"dataframe\">\n",
              "  <thead>\n",
              "    <tr style=\"text-align: right;\">\n",
              "      <th></th>\n",
              "      <th>날짜</th>\n",
              "      <th>지점</th>\n",
              "      <th>평균기온(℃)</th>\n",
              "      <th>최저기온(℃)</th>\n",
              "      <th>최고기온(℃)</th>\n",
              "    </tr>\n",
              "  </thead>\n",
              "  <tbody>\n",
              "    <tr>\n",
              "      <th>0</th>\n",
              "      <td>2009-01-01</td>\n",
              "      <td>108</td>\n",
              "      <td>-5.8</td>\n",
              "      <td>-9.5</td>\n",
              "      <td>-2.5</td>\n",
              "    </tr>\n",
              "    <tr>\n",
              "      <th>1</th>\n",
              "      <td>2009-01-02</td>\n",
              "      <td>108</td>\n",
              "      <td>-2.8</td>\n",
              "      <td>-6.9</td>\n",
              "      <td>1.2</td>\n",
              "    </tr>\n",
              "    <tr>\n",
              "      <th>2</th>\n",
              "      <td>2009-01-03</td>\n",
              "      <td>108</td>\n",
              "      <td>-1.0</td>\n",
              "      <td>-5.6</td>\n",
              "      <td>4.0</td>\n",
              "    </tr>\n",
              "    <tr>\n",
              "      <th>3</th>\n",
              "      <td>2009-01-04</td>\n",
              "      <td>108</td>\n",
              "      <td>0.4</td>\n",
              "      <td>-2.8</td>\n",
              "      <td>4.5</td>\n",
              "    </tr>\n",
              "    <tr>\n",
              "      <th>4</th>\n",
              "      <td>2009-01-05</td>\n",
              "      <td>108</td>\n",
              "      <td>-1.6</td>\n",
              "      <td>-3.4</td>\n",
              "      <td>1.2</td>\n",
              "    </tr>\n",
              "  </tbody>\n",
              "</table>\n",
              "</div>"
            ],
            "text/plain": [
              "           날짜   지점  평균기온(℃)  최저기온(℃)  최고기온(℃)\n",
              "0  2009-01-01  108     -5.8     -9.5     -2.5\n",
              "1  2009-01-02  108     -2.8     -6.9      1.2\n",
              "2  2009-01-03  108     -1.0     -5.6      4.0\n",
              "3  2009-01-04  108      0.4     -2.8      4.5\n",
              "4  2009-01-05  108     -1.6     -3.4      1.2"
            ]
          },
          "metadata": {
            "tags": []
          },
          "execution_count": 13
        }
      ]
    },
    {
      "metadata": {
        "id": "hFQVSt-yEtWR",
        "colab_type": "code",
        "outputId": "c0d13bfc-7123-4412-dc1b-8678df8ee1ac",
        "colab": {
          "base_uri": "https://localhost:8080/",
          "height": 265
        }
      },
      "cell_type": "code",
      "source": [
        "temp = data['평균기온(℃)']\n",
        "temp.plot()\n",
        "plt.show()"
      ],
      "execution_count": 14,
      "outputs": [
        {
          "output_type": "display_data",
          "data": {
            "image/png": "[encoded data removed]",
            "text/plain": [
              "<Figure size 432x288 with 1 Axes>"
            ]
          },
          "metadata": {
            "tags": []
          }
        }
      ]
    },
    {
      "metadata": {
        "id": "YOw9T591Iyya",
        "colab_type": "code",
        "outputId": "de9f7cc5-a65e-4c19-ca22-0b32318bb759",
        "colab": {
          "base_uri": "https://localhost:8080/",
          "height": 34
        }
      },
      "cell_type": "code",
      "source": [
        "train_index = round(len(temp) * 0.8)\n",
        "train_index"
      ],
      "execution_count": 15,
      "outputs": [
        {
          "output_type": "execute_result",
          "data": {
            "text/plain": [
              "2922"
            ]
          },
          "metadata": {
            "tags": []
          },
          "execution_count": 15
        }
      ]
    },
    {
      "metadata": {
        "id": "iBBKP3oOJAbW",
        "colab_type": "code",
        "colab": {}
      },
      "cell_type": "code",
      "source": [
        "train_x = temp[:train_index]\n",
        "test_x = temp[train_index:]\n",
        "\n",
        "train_x = np.array(train_x)\n",
        "test_x = np.array(test_x)"
      ],
      "execution_count": 0,
      "outputs": []
    },
    {
      "metadata": {
        "id": "NH1ZV6iYJKzd",
        "colab_type": "code",
        "outputId": "dcc49c0e-c726-4b9a-da92-22eb625ce218",
        "colab": {
          "base_uri": "https://localhost:8080/",
          "height": 233
        }
      },
      "cell_type": "code",
      "source": [
        "# 윈도우 크기 (180일, 6개월)\n",
        "WINDOW_SIZE = 180\n",
        "\n",
        "tmp = []\n",
        "train_X = []\n",
        "\n",
        "for i in range(0, len(train_x) - WINDOW_SIZE):\n",
        "  tmp.append(train_x[i:i+WINDOW_SIZE])\n",
        "\n",
        "train_X = np.array(tmp)\n",
        "\n",
        "pd.DataFrame(train_X).head()"
      ],
      "execution_count": 17,
      "outputs": [
        {
          "output_type": "execute_result",
          "data": {
            "text/html": [
              "<div>\n",
              "<style scoped>\n",
              "    .dataframe tbody tr th:only-of-type {\n",
              "        vertical-align: middle;\n",
              "    }\n",
              "\n",
              "    .dataframe tbody tr th {\n",
              "        vertical-align: top;\n",
              "    }\n",
              "\n",
              "    .dataframe thead th {\n",
              "        text-align: right;\n",
              "    }\n",
              "</style>\n",
              "<table border=\"1\" class=\"dataframe\">\n",
              "  <thead>\n",
              "    <tr style=\"text-align: right;\">\n",
              "      <th></th>\n",
              "      <th>0</th>\n",
              "      <th>1</th>\n",
              "      <th>2</th>\n",
              "      <th>3</th>\n",
              "      <th>4</th>\n",
              "      <th>5</th>\n",
              "      <th>6</th>\n",
              "      <th>7</th>\n",
              "      <th>8</th>\n",
              "      <th>9</th>\n",
              "      <th>...</th>\n",
              "      <th>170</th>\n",
              "      <th>171</th>\n",
              "      <th>172</th>\n",
              "      <th>173</th>\n",
              "      <th>174</th>\n",
              "      <th>175</th>\n",
              "      <th>176</th>\n",
              "      <th>177</th>\n",
              "      <th>178</th>\n",
              "      <th>179</th>\n",
              "    </tr>\n",
              "  </thead>\n",
              "  <tbody>\n",
              "    <tr>\n",
              "      <th>0</th>\n",
              "      <td>-5.8</td>\n",
              "      <td>-2.8</td>\n",
              "      <td>-1.0</td>\n",
              "      <td>0.4</td>\n",
              "      <td>-1.6</td>\n",
              "      <td>-2.0</td>\n",
              "      <td>-0.5</td>\n",
              "      <td>-0.9</td>\n",
              "      <td>-3.5</td>\n",
              "      <td>-7.5</td>\n",
              "      <td>...</td>\n",
              "      <td>22.7</td>\n",
              "      <td>25.1</td>\n",
              "      <td>23.0</td>\n",
              "      <td>23.4</td>\n",
              "      <td>24.5</td>\n",
              "      <td>24.8</td>\n",
              "      <td>24.4</td>\n",
              "      <td>26.1</td>\n",
              "      <td>26.0</td>\n",
              "      <td>26.1</td>\n",
              "    </tr>\n",
              "    <tr>\n",
              "      <th>1</th>\n",
              "      <td>-2.8</td>\n",
              "      <td>-1.0</td>\n",
              "      <td>0.4</td>\n",
              "      <td>-1.6</td>\n",
              "      <td>-2.0</td>\n",
              "      <td>-0.5</td>\n",
              "      <td>-0.9</td>\n",
              "      <td>-3.5</td>\n",
              "      <td>-7.5</td>\n",
              "      <td>-8.0</td>\n",
              "      <td>...</td>\n",
              "      <td>25.1</td>\n",
              "      <td>23.0</td>\n",
              "      <td>23.4</td>\n",
              "      <td>24.5</td>\n",
              "      <td>24.8</td>\n",
              "      <td>24.4</td>\n",
              "      <td>26.1</td>\n",
              "      <td>26.0</td>\n",
              "      <td>26.1</td>\n",
              "      <td>24.4</td>\n",
              "    </tr>\n",
              "    <tr>\n",
              "      <th>2</th>\n",
              "      <td>-1.0</td>\n",
              "      <td>0.4</td>\n",
              "      <td>-1.6</td>\n",
              "      <td>-2.0</td>\n",
              "      <td>-0.5</td>\n",
              "      <td>-0.9</td>\n",
              "      <td>-3.5</td>\n",
              "      <td>-7.5</td>\n",
              "      <td>-8.0</td>\n",
              "      <td>-7.8</td>\n",
              "      <td>...</td>\n",
              "      <td>23.0</td>\n",
              "      <td>23.4</td>\n",
              "      <td>24.5</td>\n",
              "      <td>24.8</td>\n",
              "      <td>24.4</td>\n",
              "      <td>26.1</td>\n",
              "      <td>26.0</td>\n",
              "      <td>26.1</td>\n",
              "      <td>24.4</td>\n",
              "      <td>23.5</td>\n",
              "    </tr>\n",
              "    <tr>\n",
              "      <th>3</th>\n",
              "      <td>0.4</td>\n",
              "      <td>-1.6</td>\n",
              "      <td>-2.0</td>\n",
              "      <td>-0.5</td>\n",
              "      <td>-0.9</td>\n",
              "      <td>-3.5</td>\n",
              "      <td>-7.5</td>\n",
              "      <td>-8.0</td>\n",
              "      <td>-7.8</td>\n",
              "      <td>-5.5</td>\n",
              "      <td>...</td>\n",
              "      <td>23.4</td>\n",
              "      <td>24.5</td>\n",
              "      <td>24.8</td>\n",
              "      <td>24.4</td>\n",
              "      <td>26.1</td>\n",
              "      <td>26.0</td>\n",
              "      <td>26.1</td>\n",
              "      <td>24.4</td>\n",
              "      <td>23.5</td>\n",
              "      <td>20.7</td>\n",
              "    </tr>\n",
              "    <tr>\n",
              "      <th>4</th>\n",
              "      <td>-1.6</td>\n",
              "      <td>-2.0</td>\n",
              "      <td>-0.5</td>\n",
              "      <td>-0.9</td>\n",
              "      <td>-3.5</td>\n",
              "      <td>-7.5</td>\n",
              "      <td>-8.0</td>\n",
              "      <td>-7.8</td>\n",
              "      <td>-5.5</td>\n",
              "      <td>-6.6</td>\n",
              "      <td>...</td>\n",
              "      <td>24.5</td>\n",
              "      <td>24.8</td>\n",
              "      <td>24.4</td>\n",
              "      <td>26.1</td>\n",
              "      <td>26.0</td>\n",
              "      <td>26.1</td>\n",
              "      <td>24.4</td>\n",
              "      <td>23.5</td>\n",
              "      <td>20.7</td>\n",
              "      <td>22.5</td>\n",
              "    </tr>\n",
              "  </tbody>\n",
              "</table>\n",
              "<p>5 rows × 180 columns</p>\n",
              "</div>"
            ],
            "text/plain": [
              "   0    1    2    3    4    5    6    7    8    9    ...    170   171   172  \\\n",
              "0 -5.8 -2.8 -1.0  0.4 -1.6 -2.0 -0.5 -0.9 -3.5 -7.5  ...   22.7  25.1  23.0   \n",
              "1 -2.8 -1.0  0.4 -1.6 -2.0 -0.5 -0.9 -3.5 -7.5 -8.0  ...   25.1  23.0  23.4   \n",
              "2 -1.0  0.4 -1.6 -2.0 -0.5 -0.9 -3.5 -7.5 -8.0 -7.8  ...   23.0  23.4  24.5   \n",
              "3  0.4 -1.6 -2.0 -0.5 -0.9 -3.5 -7.5 -8.0 -7.8 -5.5  ...   23.4  24.5  24.8   \n",
              "4 -1.6 -2.0 -0.5 -0.9 -3.5 -7.5 -8.0 -7.8 -5.5 -6.6  ...   24.5  24.8  24.4   \n",
              "\n",
              "    173   174   175   176   177   178   179  \n",
              "0  23.4  24.5  24.8  24.4  26.1  26.0  26.1  \n",
              "1  24.5  24.8  24.4  26.1  26.0  26.1  24.4  \n",
              "2  24.8  24.4  26.1  26.0  26.1  24.4  23.5  \n",
              "3  24.4  26.1  26.0  26.1  24.4  23.5  20.7  \n",
              "4  26.1  26.0  26.1  24.4  23.5  20.7  22.5  \n",
              "\n",
              "[5 rows x 180 columns]"
            ]
          },
          "metadata": {
            "tags": []
          },
          "execution_count": 17
        }
      ]
    },
    {
      "metadata": {
        "id": "acLD3aKjLEny",
        "colab_type": "code",
        "colab": {}
      },
      "cell_type": "code",
      "source": [
        "class Net(nn.Module):\n",
        "  def __init__(self):\n",
        "    super(Net, self).__init__()\n",
        "    \n",
        "    self.fc1 = nn.Linear(180, 128)\n",
        "    self.fc2 = nn.Linear(128, 64)\n",
        "    self.fc3 = nn.Linear(64, 128)\n",
        "    self.fc4 = nn.Linear(128, 180)\n",
        "    \n",
        "  def forward(self, x):\n",
        "    x = F.relu(self.fc1(x))\n",
        "    x = self.fc2(x)\n",
        "    x = F.relu(self.fc3(x))\n",
        "    x = self.fc4(x)\n",
        "    \n",
        "    return x;\n",
        "  \n",
        "model = Net()"
      ],
      "execution_count": 0,
      "outputs": []
    },
    {
      "metadata": {
        "id": "bqgdcEKxWoJK",
        "colab_type": "code",
        "colab": {
          "base_uri": "https://localhost:8080/",
          "height": 187
        },
        "outputId": "5bfd4e17-2a60-4e87-c8c8-1ec3895776d4"
      },
      "cell_type": "code",
      "source": [
        "criterion = nn.MSELoss()\n",
        "\n",
        "optimizer = optim.Adam(model.parameters(), lr=0.001)\n",
        "\n",
        "for epoch in range(1000):\n",
        "  \n",
        "  total_loss = 0\n",
        "  d = []\n",
        "  \n",
        "  for i in range(100):\n",
        "    index = np.random.randint(0, 1281)\n",
        "    \n",
        "    d.append(train_X[index])\n",
        "    \n",
        "  d = np.array(d, dtype='float32')\n",
        "  d = Variable(torch.from_numpy(d))\n",
        "  \n",
        "  optimizer.zero_grad()\n",
        "  \n",
        "  output = model(d)\n",
        "  \n",
        "  loss = criterion(output, d)\n",
        "  \n",
        "  loss.backward()\n",
        "  \n",
        "  optimizer.step()\n",
        "  \n",
        "  total_loss += loss.data.item()\n",
        "  \n",
        "  if (epoch+1) % 100 == 0:\n",
        "    print(epoch+1, total_loss)"
      ],
      "execution_count": 23,
      "outputs": [
        {
          "output_type": "stream",
          "text": [
            "100 9.88106632232666\n",
            "200 9.357300758361816\n",
            "300 9.327717781066895\n",
            "400 8.321449279785156\n",
            "500 7.5223541259765625\n",
            "600 7.002117156982422\n",
            "700 6.586050033569336\n",
            "800 6.0552496910095215\n",
            "900 5.273303985595703\n",
            "1000 5.39844274520874\n"
          ],
          "name": "stdout"
        }
      ]
    },
    {
      "metadata": {
        "id": "42ZPJGmxXQ9k",
        "colab_type": "code",
        "colab": {
          "base_uri": "https://localhost:8080/",
          "height": 265
        },
        "outputId": "b12e7b85-c3de-4943-b886-78bccc61920a"
      },
      "cell_type": "code",
      "source": [
        "plt.plot(d.data[0].numpy(), label='original')\n",
        "plt.plot(output.data[0].numpy(), label='output')\n",
        "plt.legend(loc='upper right')\n",
        "plt.show()"
      ],
      "execution_count": 24,
      "outputs": [
        {
          "output_type": "display_data",
          "data": {
            "image/png": "[encoded data removed]",
            "text/plain": [
              "<Figure size 432x288 with 1 Axes>"
            ]
          },
          "metadata": {
            "tags": []
          }
        }
      ]
    },
    {
      "metadata": {
        "id": "WW4kKUkIYZ98",
        "colab_type": "code",
        "colab": {
          "base_uri": "https://localhost:8080/",
          "height": 34
        },
        "outputId": "2cb314aa-cc5f-4c89-f22a-6e6b20d0dffb"
      },
      "cell_type": "code",
      "source": [
        "730 / 180"
      ],
      "execution_count": 36,
      "outputs": [
        {
          "output_type": "execute_result",
          "data": {
            "text/plain": [
              "4.055555555555555"
            ]
          },
          "metadata": {
            "tags": []
          },
          "execution_count": 36
        }
      ]
    },
    {
      "metadata": {
        "id": "Xb0ilhTpXzqW",
        "colab_type": "code",
        "colab": {
          "base_uri": "https://localhost:8080/",
          "height": 222
        },
        "outputId": "f80da280-5b27-4721-861f-b73bc3acb93c"
      },
      "cell_type": "code",
      "source": [
        "tmp = []\n",
        "test_X = []\n",
        "\n",
        "tmp.append(test_x[0:180])\n",
        "tmp.append(test_x[180:360])\n",
        "tmp.append(test_x[360:540])\n",
        "tmp.append(test_x[540:720])\n",
        "\n",
        "test_X = np.array(tmp, dtype='float32')\n",
        "\n",
        "pd.DataFrame(test_X)"
      ],
      "execution_count": 40,
      "outputs": [
        {
          "output_type": "execute_result",
          "data": {
            "text/html": [
              "<div>\n",
              "<style scoped>\n",
              "    .dataframe tbody tr th:only-of-type {\n",
              "        vertical-align: middle;\n",
              "    }\n",
              "\n",
              "    .dataframe tbody tr th {\n",
              "        vertical-align: top;\n",
              "    }\n",
              "\n",
              "    .dataframe thead th {\n",
              "        text-align: right;\n",
              "    }\n",
              "</style>\n",
              "<table border=\"1\" class=\"dataframe\">\n",
              "  <thead>\n",
              "    <tr style=\"text-align: right;\">\n",
              "      <th></th>\n",
              "      <th>0</th>\n",
              "      <th>1</th>\n",
              "      <th>2</th>\n",
              "      <th>3</th>\n",
              "      <th>4</th>\n",
              "      <th>5</th>\n",
              "      <th>6</th>\n",
              "      <th>7</th>\n",
              "      <th>8</th>\n",
              "      <th>9</th>\n",
              "      <th>...</th>\n",
              "      <th>170</th>\n",
              "      <th>171</th>\n",
              "      <th>172</th>\n",
              "      <th>173</th>\n",
              "      <th>174</th>\n",
              "      <th>175</th>\n",
              "      <th>176</th>\n",
              "      <th>177</th>\n",
              "      <th>178</th>\n",
              "      <th>179</th>\n",
              "    </tr>\n",
              "  </thead>\n",
              "  <tbody>\n",
              "    <tr>\n",
              "      <th>0</th>\n",
              "      <td>2.7</td>\n",
              "      <td>5.000000</td>\n",
              "      <td>2.000000</td>\n",
              "      <td>3.900000</td>\n",
              "      <td>3.800000</td>\n",
              "      <td>5.4</td>\n",
              "      <td>4.6</td>\n",
              "      <td>6.5</td>\n",
              "      <td>1.5</td>\n",
              "      <td>-3.700000</td>\n",
              "      <td>...</td>\n",
              "      <td>26.000000</td>\n",
              "      <td>25.4</td>\n",
              "      <td>25.299999</td>\n",
              "      <td>26.700001</td>\n",
              "      <td>24.5</td>\n",
              "      <td>23.799999</td>\n",
              "      <td>23.100000</td>\n",
              "      <td>25.200001</td>\n",
              "      <td>26.0</td>\n",
              "      <td>26.200001</td>\n",
              "    </tr>\n",
              "    <tr>\n",
              "      <th>1</th>\n",
              "      <td>25.9</td>\n",
              "      <td>25.299999</td>\n",
              "      <td>24.299999</td>\n",
              "      <td>24.700001</td>\n",
              "      <td>26.700001</td>\n",
              "      <td>27.4</td>\n",
              "      <td>27.6</td>\n",
              "      <td>26.4</td>\n",
              "      <td>26.0</td>\n",
              "      <td>26.299999</td>\n",
              "      <td>...</td>\n",
              "      <td>-6.700000</td>\n",
              "      <td>-1.6</td>\n",
              "      <td>-3.900000</td>\n",
              "      <td>-3.900000</td>\n",
              "      <td>-0.9</td>\n",
              "      <td>3.400000</td>\n",
              "      <td>6.100000</td>\n",
              "      <td>2.900000</td>\n",
              "      <td>-2.1</td>\n",
              "      <td>-3.800000</td>\n",
              "    </tr>\n",
              "    <tr>\n",
              "      <th>2</th>\n",
              "      <td>-6.9</td>\n",
              "      <td>-2.100000</td>\n",
              "      <td>2.100000</td>\n",
              "      <td>1.400000</td>\n",
              "      <td>-0.300000</td>\n",
              "      <td>-1.3</td>\n",
              "      <td>-1.8</td>\n",
              "      <td>-4.7</td>\n",
              "      <td>-4.7</td>\n",
              "      <td>-3.000000</td>\n",
              "      <td>...</td>\n",
              "      <td>21.700001</td>\n",
              "      <td>22.5</td>\n",
              "      <td>22.799999</td>\n",
              "      <td>24.799999</td>\n",
              "      <td>22.4</td>\n",
              "      <td>22.700001</td>\n",
              "      <td>23.700001</td>\n",
              "      <td>25.000000</td>\n",
              "      <td>24.5</td>\n",
              "      <td>25.200001</td>\n",
              "    </tr>\n",
              "    <tr>\n",
              "      <th>3</th>\n",
              "      <td>27.1</td>\n",
              "      <td>22.299999</td>\n",
              "      <td>22.299999</td>\n",
              "      <td>23.299999</td>\n",
              "      <td>24.700001</td>\n",
              "      <td>24.4</td>\n",
              "      <td>21.9</td>\n",
              "      <td>22.6</td>\n",
              "      <td>27.4</td>\n",
              "      <td>27.299999</td>\n",
              "      <td>...</td>\n",
              "      <td>-1.900000</td>\n",
              "      <td>-2.2</td>\n",
              "      <td>-4.400000</td>\n",
              "      <td>-2.400000</td>\n",
              "      <td>0.0</td>\n",
              "      <td>1.600000</td>\n",
              "      <td>2.600000</td>\n",
              "      <td>4.000000</td>\n",
              "      <td>3.4</td>\n",
              "      <td>5.600000</td>\n",
              "    </tr>\n",
              "  </tbody>\n",
              "</table>\n",
              "<p>4 rows × 180 columns</p>\n",
              "</div>"
            ],
            "text/plain": [
              "    0          1          2          3          4     5     6     7     8    \\\n",
              "0   2.7   5.000000   2.000000   3.900000   3.800000   5.4   4.6   6.5   1.5   \n",
              "1  25.9  25.299999  24.299999  24.700001  26.700001  27.4  27.6  26.4  26.0   \n",
              "2  -6.9  -2.100000   2.100000   1.400000  -0.300000  -1.3  -1.8  -4.7  -4.7   \n",
              "3  27.1  22.299999  22.299999  23.299999  24.700001  24.4  21.9  22.6  27.4   \n",
              "\n",
              "         9      ...            170   171        172        173   174  \\\n",
              "0  -3.700000    ...      26.000000  25.4  25.299999  26.700001  24.5   \n",
              "1  26.299999    ...      -6.700000  -1.6  -3.900000  -3.900000  -0.9   \n",
              "2  -3.000000    ...      21.700001  22.5  22.799999  24.799999  22.4   \n",
              "3  27.299999    ...      -1.900000  -2.2  -4.400000  -2.400000   0.0   \n",
              "\n",
              "         175        176        177   178        179  \n",
              "0  23.799999  23.100000  25.200001  26.0  26.200001  \n",
              "1   3.400000   6.100000   2.900000  -2.1  -3.800000  \n",
              "2  22.700001  23.700001  25.000000  24.5  25.200001  \n",
              "3   1.600000   2.600000   4.000000   3.4   5.600000  \n",
              "\n",
              "[4 rows x 180 columns]"
            ]
          },
          "metadata": {
            "tags": []
          },
          "execution_count": 40
        }
      ]
    },
    {
      "metadata": {
        "id": "EKxW-AEnYqdl",
        "colab_type": "code",
        "colab": {
          "base_uri": "https://localhost:8080/",
          "height": 265
        },
        "outputId": "d954e459-363a-41bf-e8fe-4d04cff7c366"
      },
      "cell_type": "code",
      "source": [
        "d = Variable(torch.from_numpy(test_X))\n",
        "output = model(d)\n",
        "\n",
        "plt.plot(test_X.flatten(), label='original')\n",
        "plt.plot(output.data.numpy().flatten(), label='prediction')\n",
        "plt.legend(loc='upper right')\n",
        "plt.show()"
      ],
      "execution_count": 42,
      "outputs": [
        {
          "output_type": "display_data",
          "data": {
            "image/png": "[encoded data removed]",
            "text/plain": [
              "<Figure size 432x288 with 1 Axes>"
            ]
          },
          "metadata": {
            "tags": []
          }
        }
      ]
    },
    {
      "metadata": {
        "id": "9nnvRXLba_fa",
        "colab_type": "code",
        "colab": {
          "base_uri": "https://localhost:8080/",
          "height": 3077
        },
        "outputId": "5c921524-d9ff-4fae-dd71-cb1a4a0eda39"
      },
      "cell_type": "code",
      "source": [
        "test = test_X.flatten()\n",
        "pred = output.data.numpy().flatten()\n",
        "\n",
        "total_score = []\n",
        "for i in range(0, 720):\n",
        "  dist = (test[i] - pred[i])\n",
        "  score = pow(dist, 2)\n",
        "  total_score.append(score)\n",
        "  \n",
        "total_score = np.array(total_score)\n",
        "max_score = np.max(total_score)\n",
        "total_score = total_score / max_score\n",
        "\n",
        "total_score"
      ],
      "execution_count": 45,
      "outputs": [
        {
          "output_type": "execute_result",
          "data": {
            "text/plain": [
              "array([1.93946729e-02, 1.31139284e-01, 8.44757540e-03, 8.05309235e-02,\n",
              "       6.14535470e-02, 1.94746702e-01, 1.81391707e-01, 4.07204407e-01,\n",
              "       8.00653742e-02, 6.29057480e-02, 8.57470834e-02, 4.18611138e-03,\n",
              "       4.39967391e-02, 1.24557914e-01, 7.00245533e-02, 5.58702514e-05,\n",
              "       6.18147831e-03, 1.62956368e-01, 3.48484369e-02, 4.72080081e-03,\n",
              "       6.14524196e-03, 8.78437179e-02, 9.77804591e-02, 1.34019837e-02,\n",
              "       7.40494942e-03, 7.42925351e-02, 1.32769618e-02, 3.26952445e-02,\n",
              "       2.19687940e-03, 1.51104333e-01, 1.45699888e-01, 6.39168142e-03,\n",
              "       4.81540796e-04, 2.01707471e-01, 7.53241649e-02, 4.34419728e-02,\n",
              "       4.35266563e-03, 1.13522576e-04, 5.33843061e-02, 8.22720693e-03,\n",
              "       2.94235831e-03, 2.09284745e-02, 3.34866939e-02, 1.16939432e-01,\n",
              "       3.84763104e-02, 5.50135246e-02, 2.06750824e-01, 5.19933592e-02,\n",
              "       2.21280401e-01, 9.77769004e-03, 1.08131555e-01, 6.95294401e-02,\n",
              "       7.93436471e-05, 1.75040034e-01, 1.07654115e-01, 2.80204448e-05,\n",
              "       3.84297611e-03, 1.82572402e-03, 1.02618284e-01, 1.19725516e-01,\n",
              "       1.52529988e-04, 3.68744990e-02, 2.86862253e-01, 2.72057207e-01,\n",
              "       1.06210175e-03, 1.19486278e-01, 1.29986799e-01, 1.82759298e-05,\n",
              "       9.50464888e-04, 8.08171335e-02, 1.73469538e-01, 8.43880345e-02,\n",
              "       6.22094468e-04, 7.19018794e-03, 3.51052326e-03, 1.83412679e-03,\n",
              "       1.72841807e-02, 3.16552451e-02, 1.06975697e-02, 4.41648666e-02,\n",
              "       4.93372846e-03, 9.88102876e-03, 4.40250451e-02, 9.69280930e-02,\n",
              "       1.26300948e-01, 8.70130409e-03, 5.64824459e-02, 7.18043125e-02,\n",
              "       1.18398144e-01, 1.46581785e-04, 6.70330796e-03, 2.46336692e-02,\n",
              "       7.34791073e-03, 5.30497334e-02, 8.51313715e-03, 2.31426366e-01,\n",
              "       7.61623026e-03, 7.09211650e-02, 3.35248793e-03, 1.21549055e-01,\n",
              "       1.08680616e-02, 2.30463998e-02, 2.92433409e-04, 5.68904426e-03,\n",
              "       1.91945400e-01, 2.86567227e-01, 1.74741813e-03, 1.89961396e-01,\n",
              "       7.63573528e-02, 3.60073056e-02, 3.25377933e-02, 1.11795332e-05,\n",
              "       5.49091517e-04, 1.08948867e-03, 1.72555827e-02, 3.99494439e-04,\n",
              "       7.39124816e-02, 1.58368239e-02, 1.45711842e-02, 4.76944091e-02,\n",
              "       2.97417562e-02, 2.52702470e-02, 2.92265896e-02, 2.03905130e-02,\n",
              "       7.46706906e-02, 1.20025284e-01, 3.10542589e-07, 3.95636970e-03,\n",
              "       4.51458661e-03, 6.74269101e-03, 4.76584405e-02, 5.33185086e-02,\n",
              "       1.70940949e-03, 1.35302228e-02, 5.25228138e-02, 1.16999097e-02,\n",
              "       1.16215490e-03, 1.52120215e-03, 2.67318036e-04, 1.02504444e-03,\n",
              "       3.22445713e-03, 9.57617614e-03, 1.32097048e-02, 8.49005896e-02,\n",
              "       7.72191849e-03, 4.52991923e-02, 3.68400265e-03, 1.77995827e-02,\n",
              "       6.33706157e-03, 1.43541560e-02, 7.58682545e-03, 1.14683985e-02,\n",
              "       1.19223242e-02, 7.74875961e-03, 9.92136020e-03, 2.27429122e-01,\n",
              "       4.05621635e-03, 7.88403003e-02, 1.41287581e-02, 3.79819853e-03,\n",
              "       1.04812180e-02, 2.79319496e-02, 7.71520482e-04, 4.03442163e-02,\n",
              "       1.68484702e-01, 1.05079716e-01, 5.50103020e-03, 1.00430958e-01,\n",
              "       5.96736462e-02, 3.78510443e-02, 2.54196780e-03, 7.81740785e-04,\n",
              "       2.19884976e-02, 7.46658339e-02, 9.25663716e-04, 2.89136495e-04,\n",
              "       2.61305748e-02, 5.64246500e-03, 1.53817282e-02, 2.42718536e-02,\n",
              "       4.85462522e-02, 4.24341248e-02, 5.89182466e-03, 3.89709685e-03,\n",
              "       1.54912784e-02, 4.48051416e-05, 2.93204883e-10, 6.04746645e-03,\n",
              "       1.54402251e-02, 5.62821147e-03, 6.00938376e-02, 6.79068878e-03,\n",
              "       1.22496089e-03, 8.31756553e-03, 4.58370566e-03, 1.08604014e-01,\n",
              "       1.65242443e-02, 1.57400307e-02, 4.39489178e-03, 1.58903861e-02,\n",
              "       7.76369760e-02, 5.18913747e-02, 5.20592181e-03, 4.37349382e-02,\n",
              "       9.05569586e-02, 4.14737639e-02, 3.50504940e-02, 1.67541233e-02,\n",
              "       2.43300622e-03, 3.64963399e-02, 5.99475953e-02, 5.11347672e-02,\n",
              "       8.03899896e-03, 1.30844908e-01, 7.80540106e-02, 8.39238672e-02,\n",
              "       5.64066702e-02, 6.45657233e-03, 2.82584164e-04, 7.97336921e-03,\n",
              "       5.05558002e-02, 3.76995326e-01, 1.85838396e-02, 1.34072857e-03,\n",
              "       5.96378317e-03, 1.18333618e-02, 1.64629739e-01, 1.76315070e-02,\n",
              "       1.71443162e-05, 2.01331744e-03, 1.43221806e-02, 2.77585345e-01,\n",
              "       8.09655478e-02, 3.62569176e-03, 2.08158685e-02, 8.62513625e-03,\n",
              "       7.36951629e-05, 3.75119050e-03, 1.73750182e-03, 2.73713465e-04,\n",
              "       4.89733704e-02, 1.92652613e-02, 5.66443373e-03, 2.04628163e-02,\n",
              "       2.46484143e-03, 6.70561515e-03, 4.39308145e-03, 7.82865970e-02,\n",
              "       5.77978495e-02, 3.26015539e-04, 1.05577898e-01, 1.39397875e-01,\n",
              "       1.60107242e-02, 5.80064166e-03, 7.15896027e-02, 7.21224159e-03,\n",
              "       2.30184391e-04, 2.53342923e-03, 1.67576585e-02, 4.16915775e-02,\n",
              "       4.10451174e-04, 3.86492586e-04, 8.52846318e-02, 7.73873879e-02,\n",
              "       2.66318196e-02, 1.00411177e-03, 4.11170546e-03, 3.94260140e-02,\n",
              "       8.16685578e-02, 7.13012175e-03, 1.35032844e-02, 5.54740650e-02,\n",
              "       2.33687363e-02, 2.13994985e-02, 2.30674139e-01, 3.53921081e-04,\n",
              "       3.94680301e-02, 7.39954141e-03, 1.27592702e-02, 4.35038867e-02,\n",
              "       2.15610491e-01, 2.35210282e-01, 1.48979607e-01, 4.25810592e-02,\n",
              "       2.95175398e-01, 7.83018806e-02, 3.31620232e-02, 3.84076029e-04,\n",
              "       1.53591334e-03, 1.07055072e-02, 3.20010886e-05, 5.97865632e-03,\n",
              "       2.75775681e-02, 6.78875988e-03, 4.66072131e-04, 8.11583966e-02,\n",
              "       1.83122600e-02, 1.45216454e-02, 1.18715216e-03, 1.10290764e-01,\n",
              "       1.36461094e-01, 2.46643981e-02, 2.38889261e-01, 6.30227373e-02,\n",
              "       8.41527727e-02, 1.46449745e-01, 7.44796670e-03, 7.79500104e-02,\n",
              "       8.71555698e-02, 1.55902277e-04, 1.14344408e-01, 6.35313835e-02,\n",
              "       4.84151406e-05, 2.88008326e-02, 1.16913070e-02, 3.50356232e-02,\n",
              "       1.74557615e-01, 4.96316301e-02, 4.29655103e-02, 1.20908410e-01,\n",
              "       1.67342483e-02, 1.28812250e-01, 1.10740430e-01, 2.93192868e-02,\n",
              "       1.02515287e-03, 6.53074009e-02, 1.14160918e-01, 1.95230402e-01,\n",
              "       1.28016861e-02, 2.52075441e-03, 4.25329357e-02, 5.25525309e-01,\n",
              "       1.41450938e-01, 3.91309845e-02, 1.06123937e-02, 9.80817069e-02,\n",
              "       3.17953976e-01, 1.25267313e-02, 4.03420748e-01, 2.68966145e-02,\n",
              "       1.56766799e-02, 2.06352555e-01, 2.08674096e-03, 6.60502600e-02,\n",
              "       2.20163516e-01, 4.88684656e-01, 1.56136746e-01, 1.74418934e-02,\n",
              "       2.25635595e-02, 9.55239364e-02, 1.77014144e-01, 2.67975244e-02,\n",
              "       8.84511173e-03, 2.38397357e-02, 2.82573279e-02, 4.24138774e-01,\n",
              "       5.62199666e-01, 2.68865816e-01, 8.70946308e-04, 2.94330811e-02,\n",
              "       3.86554719e-01, 1.37747896e-03, 1.22581296e-01, 2.46290854e-02,\n",
              "       2.17623121e-03, 6.84470972e-02, 2.23633324e-02, 2.69077825e-01,\n",
              "       1.60567980e-01, 6.05601271e-02, 5.37065516e-03, 1.56619200e-02,\n",
              "       1.94759471e-01, 5.84935153e-03, 3.88065917e-02, 2.88029098e-01,\n",
              "       2.12802081e-01, 1.44651855e-03, 1.15555034e-01, 4.82391471e-01,\n",
              "       8.53021031e-02, 6.99059471e-02, 3.36829593e-03, 5.71472604e-03,\n",
              "       9.49873261e-02, 2.25059027e-01, 5.06049244e-01, 4.28787866e-02,\n",
              "       2.54294159e-01, 2.12244865e-01, 4.92036726e-01, 6.72955997e-02,\n",
              "       1.44768718e-02, 1.62489818e-01, 5.23461177e-03, 1.27047934e-01,\n",
              "       1.99745108e-02, 5.71299628e-01, 9.42272732e-02, 4.60262606e-09,\n",
              "       4.09216184e-02, 2.42482945e-01, 1.89573420e-01, 2.63128325e-02,\n",
              "       3.18000250e-02, 6.88646651e-03, 5.12016444e-01, 4.12559069e-01,\n",
              "       7.13898056e-05, 2.21228965e-01, 9.40027595e-03, 8.90824174e-04,\n",
              "       1.75808137e-02, 5.34863680e-02, 1.83915634e-01, 2.15884537e-02,\n",
              "       3.46533135e-02, 1.70436452e-03, 1.42642276e-01, 7.28003372e-03,\n",
              "       2.17737816e-02, 7.76897843e-02, 1.87716766e-01, 2.02412460e-01,\n",
              "       1.42484673e-01, 2.75870357e-01, 3.48136132e-05, 1.66029051e-01,\n",
              "       1.00866235e-01, 5.42180271e-02, 1.65459562e-02, 1.54278115e-02,\n",
              "       6.05516863e-02, 7.11131934e-03, 1.16302298e-02, 3.33960244e-02,\n",
              "       5.16255346e-01, 1.00000000e+00, 2.16254699e-01, 4.62779730e-02,\n",
              "       8.72982279e-02, 3.89684375e-02, 2.08428337e-04, 2.08611593e-02,\n",
              "       1.02914215e-01, 7.95370761e-03, 3.58760420e-05, 7.07968760e-03,\n",
              "       7.65697650e-04, 5.99379970e-03, 1.80959108e-02, 4.26469671e-02,\n",
              "       8.78868291e-02, 4.41033260e-02, 3.24538995e-03, 1.04893605e-01,\n",
              "       4.94763374e-01, 3.09763642e-01, 6.22675763e-02, 1.63313859e-01,\n",
              "       2.26750199e-01, 2.00472146e-01, 1.55739213e-01, 3.71788600e-02,\n",
              "       2.98555434e-01, 1.56290609e-02, 1.38337184e-03, 2.40924433e-05,\n",
              "       1.34463538e-01, 1.63648329e-01, 2.26652722e-02, 4.22628441e-02,\n",
              "       7.62139739e-02, 1.16348702e-02, 2.70041346e-01, 3.55309164e-01,\n",
              "       1.82052514e-03, 3.76778563e-01, 1.04626597e-01, 6.36979037e-04,\n",
              "       2.96925546e-07, 1.75095154e-02, 5.20557749e-02, 6.06029799e-02,\n",
              "       3.40059003e-01, 3.27793739e-01, 1.63474238e-03, 2.46324906e-01,\n",
              "       6.47651212e-03, 5.50732252e-02, 6.73568036e-03, 7.01094382e-02,\n",
              "       2.11064544e-02, 7.41245365e-04, 1.66302912e-04, 1.14188716e-02,\n",
              "       4.99539177e-02, 1.09676601e-01, 1.47360106e-02, 9.34644750e-02,\n",
              "       7.52129050e-02, 3.44296437e-02, 5.66823118e-02, 9.22132412e-08,\n",
              "       1.44529018e-04, 2.19985267e-02, 5.38817409e-02, 1.32870443e-02,\n",
              "       8.92945735e-04, 2.30598567e-03, 3.47084401e-03, 3.01609092e-02,\n",
              "       1.31402167e-03, 5.68148046e-02, 5.78259919e-02, 2.22064352e-02,\n",
              "       3.42009408e-02, 1.41813198e-05, 8.33718667e-03, 2.99237876e-03,\n",
              "       4.91482204e-02, 8.54979546e-02, 1.21911627e-02, 1.05787263e-02,\n",
              "       3.19755922e-02, 7.97019540e-03, 5.66934588e-02, 4.81189127e-02,\n",
              "       4.23219503e-02, 9.97808344e-02, 2.40780066e-02, 9.87463895e-04,\n",
              "       7.01023218e-04, 4.22771934e-02, 2.53862491e-03, 7.31090936e-03,\n",
              "       2.85760225e-03, 5.09028008e-03, 1.70751435e-04, 1.03937936e-02,\n",
              "       1.82077852e-02, 5.84311382e-02, 8.06840983e-03, 2.25553382e-03,\n",
              "       1.44870807e-03, 1.64316481e-02, 1.40632122e-01, 8.26050665e-02,\n",
              "       2.78117396e-02, 1.14918062e-01, 9.26015801e-03, 9.79795173e-03,\n",
              "       8.84545828e-03, 1.43196386e-02, 2.63321742e-01, 1.51618189e-02,\n",
              "       1.44037119e-03, 7.43635489e-03, 1.53761373e-02, 9.04801389e-02,\n",
              "       2.82699314e-02, 2.84872596e-02, 9.24503439e-04, 8.84537674e-03,\n",
              "       3.08907215e-02, 4.90907263e-03, 3.67997424e-02, 2.64200706e-03,\n",
              "       2.73575064e-02, 4.49178395e-02, 1.40934658e-03, 1.83646677e-03,\n",
              "       1.21898704e-02, 4.86391361e-04, 1.72586578e-02, 1.21099770e-02,\n",
              "       5.72376847e-02, 1.49572011e-01, 1.03780685e-01, 9.89481018e-02,\n",
              "       2.63194516e-05, 8.98636359e-02, 7.11460574e-04, 5.51383421e-03,\n",
              "       5.56342059e-03, 4.73964693e-02, 1.03751957e-02, 1.61234788e-02,\n",
              "       5.99637295e-02, 3.58016234e-02, 1.63651661e-01, 4.91779211e-02,\n",
              "       1.69046696e-02, 1.29267439e-02, 9.88977823e-03, 2.50609817e-03,\n",
              "       1.35160321e-02, 1.35579957e-02, 9.95863457e-02, 7.97182644e-02,\n",
              "       8.27713050e-03, 6.96222312e-04, 8.44852804e-02, 3.91744733e-02,\n",
              "       1.94985180e-02, 5.77616954e-03, 2.50373328e-03, 1.77253996e-02,\n",
              "       1.57666529e-03, 9.72503812e-02, 6.19012475e-02, 7.61778145e-03,\n",
              "       1.30044876e-02, 1.10721713e-01, 5.12686619e-02, 8.89710846e-03,\n",
              "       1.27870124e-03, 3.35727116e-03, 1.15887177e-04, 5.14493286e-02,\n",
              "       2.55776266e-02, 2.99643516e-03, 1.07809313e-03, 4.12176113e-02,\n",
              "       1.38042157e-02, 6.97337296e-03, 2.21672917e-03, 1.54967808e-01,\n",
              "       9.84083025e-02, 3.37815131e-03, 1.93027651e-04, 8.40057673e-02,\n",
              "       3.05807967e-04, 6.16540765e-02, 1.45566406e-02, 4.94436858e-03,\n",
              "       3.82399969e-02, 1.97375630e-02, 9.62888879e-02, 3.28283101e-02,\n",
              "       3.23532013e-02, 1.32156739e-01, 1.67101891e-02, 1.91207406e-01,\n",
              "       6.17573993e-02, 5.66865962e-03, 3.98523306e-02, 1.71384759e-02,\n",
              "       2.58162847e-01, 2.62940712e-01, 3.70040983e-02, 4.98233486e-02,\n",
              "       1.60095974e-03, 1.91716914e-02, 2.75776898e-01, 1.39450158e-01,\n",
              "       6.79637191e-02, 3.28627214e-02, 4.16708181e-03, 4.79123562e-02,\n",
              "       1.38738141e-03, 8.84474481e-03, 7.25547165e-03, 3.25465746e-05,\n",
              "       7.30210213e-02, 3.70746380e-02, 3.55502123e-02, 4.18105589e-02,\n",
              "       7.07349298e-02, 7.62561654e-02, 3.29071763e-02, 1.10705125e-03,\n",
              "       2.85753273e-05, 5.07550698e-03, 3.93551196e-02, 2.34588817e-02,\n",
              "       2.06823018e-02, 6.58035218e-02, 6.40861827e-02, 3.09346144e-03,\n",
              "       8.88818217e-04, 9.40135527e-04, 2.63212099e-02, 3.88770546e-02,\n",
              "       4.25340197e-02, 8.19412995e-02, 3.31743985e-02, 2.55648369e-02,\n",
              "       7.46673738e-02, 2.52616338e-02, 1.79775720e-01, 1.48993830e-01,\n",
              "       1.37535160e-01, 1.44611111e-04, 6.80538772e-03, 2.51437116e-02,\n",
              "       1.26206687e-02, 8.02157827e-02, 4.54134760e-02, 3.46829057e-03,\n",
              "       1.52252799e-01, 7.03616341e-01, 1.07095187e-01, 1.41494310e-01,\n",
              "       2.52528799e-02, 6.88386854e-01, 6.35661218e-01, 2.17981332e-01,\n",
              "       1.27919213e-02, 3.61674515e-02, 1.48767970e-04, 4.72132741e-06,\n",
              "       3.69547583e-02, 3.73470088e-03, 5.94694682e-02, 4.97327239e-02,\n",
              "       4.33253488e-02, 2.24500510e-01, 9.76854076e-02, 3.94329851e-01])"
            ]
          },
          "metadata": {
            "tags": []
          },
          "execution_count": 45
        }
      ]
    },
    {
      "metadata": {
        "id": "QBzLIEI9biLh",
        "colab_type": "code",
        "colab": {
          "base_uri": "https://localhost:8080/",
          "height": 265
        },
        "outputId": "7d8c4911-7489-444c-ba12-cfee67e1b8aa"
      },
      "cell_type": "code",
      "source": [
        "plt.plot(total_score)\n",
        "plt.show()"
      ],
      "execution_count": 46,
      "outputs": [
        {
          "output_type": "display_data",
          "data": {
            "image/png": "[encoded data removed]",
            "text/plain": [
              "<Figure size 432x288 with 1 Axes>"
            ]
          },
          "metadata": {
            "tags": []
          }
        }
      ]
    },
    {
      "metadata": {
        "id": "2HfurPqMbxUE",
        "colab_type": "code",
        "colab": {}
      },
      "cell_type": "code",
      "source": [
        ""
      ],
      "execution_count": 0,
      "outputs": []
    }
  ]
}